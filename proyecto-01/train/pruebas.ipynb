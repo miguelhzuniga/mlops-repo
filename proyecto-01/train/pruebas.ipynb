{
 "cells": [
  {
   "cell_type": "code",
   "execution_count": 1,
   "id": "1a8c2491-64a1-476d-8964-4d303dcc6c95",
   "metadata": {},
   "outputs": [],
   "source": [
    "from data_preparation import *\n",
    "from model_creation import *\n",
    "import os \n",
    "import requests\n",
    "from sklearn.feature_selection import SelectKBest, chi2, f_classif"
   ]
  },
  {
   "cell_type": "code",
   "execution_count": 2,
   "id": "9bf9e5dd-4eb9-4d39-9e80-ff9719074f51",
   "metadata": {},
   "outputs": [
    {
     "name": "stdout",
     "output_type": "stream",
     "text": [
      "Elevation                              int64\n",
      "Aspect                                 int64\n",
      "Slope                                  int64\n",
      "Horizontal_Distance_To_Hydrology       int64\n",
      "Vertical_Distance_To_Hydrology         int64\n",
      "Horizontal_Distance_To_Roadways        int64\n",
      "Hillshade_9am                          int64\n",
      "Hillshade_Noon                         int64\n",
      "Hillshade_3pm                          int64\n",
      "Horizontal_Distance_To_Fire_Points     int64\n",
      "Wilderness_Area                       object\n",
      "Soil_Type                             object\n",
      "Cover_Type                             int64\n",
      "dtype: object\n"
     ]
    }
   ],
   "source": [
    "## download the dataset\n",
    "# Directory of the raw data files\n",
    "_data_root = './data/covertype'\n",
    "# Path to the raw training data\n",
    "_data_filepath = os.path.join(_data_root, 'covertype_train.csv')\n",
    "\n",
    "# Download data\n",
    "os.makedirs(_data_root, exist_ok=True)\n",
    "if not os.path.isfile(_data_filepath):\n",
    "    #https://archive.ics.uci.edu/ml/machine-learning-databases/covtype/\n",
    "    url = 'https://docs.google.com/uc?export= \\\n",
    "    download&confirm={{VALUE}}&id=1lVF1BCWLH4eXXV_YOJzjR7xZjj-wAGj9'\n",
    "    r = requests.get(url, allow_redirects=True, stream=True)\n",
    "    open(_data_filepath, 'wb').write(r.content)\n",
    "    \n",
    "df = cargar_datos(_data_filepath)"
   ]
  },
  {
   "cell_type": "code",
   "execution_count": 3,
   "id": "981f1b05-20ad-4a94-b254-90a79aef08f8",
   "metadata": {},
   "outputs": [],
   "source": [
    "# Se seleccionan solo las variables numéricas\n",
    "df_numerico = df.select_dtypes(include=['number'])"
   ]
  },
  {
   "cell_type": "code",
   "execution_count": 4,
   "id": "80f26afc-93e9-4889-8b9f-ab1a67e60ada",
   "metadata": {},
   "outputs": [
    {
     "data": {
      "text/plain": [
       "Elevation                             int64\n",
       "Aspect                                int64\n",
       "Slope                                 int64\n",
       "Horizontal_Distance_To_Hydrology      int64\n",
       "Vertical_Distance_To_Hydrology        int64\n",
       "Horizontal_Distance_To_Roadways       int64\n",
       "Hillshade_9am                         int64\n",
       "Hillshade_Noon                        int64\n",
       "Hillshade_3pm                         int64\n",
       "Horizontal_Distance_To_Fire_Points    int64\n",
       "Cover_Type                            int64\n",
       "dtype: object"
      ]
     },
     "execution_count": 4,
     "metadata": {},
     "output_type": "execute_result"
    }
   ],
   "source": [
    "df_numerico.dtypes"
   ]
  },
  {
   "cell_type": "code",
   "execution_count": 5,
   "id": "78836b7d-1515-4075-9b32-0849316b2449",
   "metadata": {},
   "outputs": [],
   "source": [
    "X_train, X_test, y_train, y_test, preprocessor = preparar_datos(df_numerico)"
   ]
  },
  {
   "cell_type": "code",
   "execution_count": 6,
   "id": "3397a3f9-b4d7-4a7f-8a9a-cbcf81c661be",
   "metadata": {},
   "outputs": [
    {
     "data": {
      "text/plain": [
       "(92962, 10)"
      ]
     },
     "execution_count": 6,
     "metadata": {},
     "output_type": "execute_result"
    }
   ],
   "source": [
    "X_train.shape"
   ]
  },
  {
   "cell_type": "code",
   "execution_count": 7,
   "id": "2539e075-02d8-4093-b23f-16e2874b763a",
   "metadata": {},
   "outputs": [],
   "source": [
    "# Aplicar SelectKBest\n",
    "selector = SelectKBest(f_classif, k=8)\n",
    "X_train_new = selector.fit_transform(X_train, y_train)\n",
    "\n",
    "# Obtener los nombres de las columnas seleccionadas\n",
    "columnas_seleccionadas = X_train.columns[selector.get_support()]\n",
    "\n",
    "# Convertir nuevamente en DataFrame\n",
    "X_train_new = pd.DataFrame(X_train_new, columns=columnas_seleccionadas, index=X_train.index)"
   ]
  }
 ],
 "metadata": {
  "kernelspec": {
   "display_name": "Python 3 (ipykernel)",
   "language": "python",
   "name": "python3"
  },
  "language_info": {
   "codemirror_mode": {
    "name": "ipython",
    "version": 3
   },
   "file_extension": ".py",
   "mimetype": "text/x-python",
   "name": "python",
   "nbconvert_exporter": "python",
   "pygments_lexer": "ipython3",
   "version": "3.11.11"
  }
 },
 "nbformat": 4,
 "nbformat_minor": 5
}
