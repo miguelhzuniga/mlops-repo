{
 "cells": [
  {
   "cell_type": "code",
   "execution_count": 1,
   "id": "c8797670-9909-46aa-a736-363d6608fa59",
   "metadata": {},
   "outputs": [
    {
     "name": "stderr",
     "output_type": "stream",
     "text": [
      "2025-02-23 17:23:06.291161: I tensorflow/core/util/port.cc:113] oneDNN custom operations are on. You may see slightly different numerical results due to floating-point round-off errors from different computation orders. To turn them off, set the environment variable `TF_ENABLE_ONEDNN_OPTS=0`.\n",
      "2025-02-23 17:23:06.291813: I external/local_tsl/tsl/cuda/cudart_stub.cc:32] Could not find cuda drivers on your machine, GPU will not be used.\n",
      "2025-02-23 17:23:06.293763: I external/local_tsl/tsl/cuda/cudart_stub.cc:32] Could not find cuda drivers on your machine, GPU will not be used.\n",
      "2025-02-23 17:23:06.299285: E external/local_xla/xla/stream_executor/cuda/cuda_fft.cc:479] Unable to register cuFFT factory: Attempting to register factory for plugin cuFFT when one has already been registered\n",
      "2025-02-23 17:23:06.310796: E external/local_xla/xla/stream_executor/cuda/cuda_dnn.cc:10575] Unable to register cuDNN factory: Attempting to register factory for plugin cuDNN when one has already been registered\n",
      "2025-02-23 17:23:06.310823: E external/local_xla/xla/stream_executor/cuda/cuda_blas.cc:1442] Unable to register cuBLAS factory: Attempting to register factory for plugin cuBLAS when one has already been registered\n",
      "2025-02-23 17:23:06.318818: I tensorflow/core/platform/cpu_feature_guard.cc:210] This TensorFlow binary is optimized to use available CPU instructions in performance-critical operations.\n",
      "To enable the following instructions: AVX2 AVX_VNNI FMA, in other operations, rebuild TensorFlow with the appropriate compiler flags.\n",
      "2025-02-23 17:23:07.221303: W tensorflow/compiler/tf2tensorrt/utils/py_utils.cc:38] TF-TRT Warning: Could not find TensorRT\n"
     ]
    },
    {
     "name": "stdout",
     "output_type": "stream",
     "text": [
      "TF version: 2.16.2\n",
      "TFDV version: 1.16.1\n"
     ]
    }
   ],
   "source": [
    "# Import libraries\n",
    "import os\n",
    "import requests\n",
    "import pandas as pd\n",
    "import tensorflow as tf\n",
    "import tensorflow_data_validation as tfdv\n",
    "from sklearn.model_selection import train_test_split\n",
    "print('TF version:', tf.__version__)\n",
    "print('TFDV version:', tfdv.version.__version__)"
   ]
  },
  {
   "cell_type": "code",
   "execution_count": 2,
   "id": "3e765959-1d88-41b4-b0b4-4737c15f9a1b",
   "metadata": {},
   "outputs": [],
   "source": [
    "from data_preparation import *\n",
    "from model_creation import *\n",
    "from sklearn.feature_selection import SelectKBest, chi2, f_classif"
   ]
  },
  {
   "cell_type": "code",
   "execution_count": 3,
   "id": "e29e545f-1159-407d-bd53-e14cedce3582",
   "metadata": {},
   "outputs": [
    {
     "name": "stdout",
     "output_type": "stream",
     "text": [
      "Elevation                              int64\n",
      "Aspect                                 int64\n",
      "Slope                                  int64\n",
      "Horizontal_Distance_To_Hydrology       int64\n",
      "Vertical_Distance_To_Hydrology         int64\n",
      "Horizontal_Distance_To_Roadways        int64\n",
      "Hillshade_9am                          int64\n",
      "Hillshade_Noon                         int64\n",
      "Hillshade_3pm                          int64\n",
      "Horizontal_Distance_To_Fire_Points     int64\n",
      "Wilderness_Area                       object\n",
      "Soil_Type                             object\n",
      "Cover_Type                             int64\n",
      "dtype: object\n"
     ]
    }
   ],
   "source": [
    "## download the dataset\n",
    "# Directory of the raw data files\n",
    "_data_root = './data/covertype'\n",
    "# Path to the raw training data\n",
    "_data_filepath = os.path.join(_data_root, 'covertype_train.csv')\n",
    "\n",
    "# Download data\n",
    "os.makedirs(_data_root, exist_ok=True)\n",
    "if not os.path.isfile(_data_filepath):\n",
    "    #https://archive.ics.uci.edu/ml/machine-learning-databases/covtype/\n",
    "    url = 'https://docs.google.com/uc?export= \\\n",
    "    download&confirm={{VALUE}}&id=1lVF1BCWLH4eXXV_YOJzjR7xZjj-wAGj9'\n",
    "    r = requests.get(url, allow_redirects=True, stream=True)\n",
    "    open(_data_filepath, 'wb').write(r.content)\n",
    "    \n",
    "df = cargar_datos(_data_filepath)"
   ]
  },
  {
   "cell_type": "code",
   "execution_count": 4,
   "id": "ffdf26f9-c5bd-4efb-b5b4-481c11eb0283",
   "metadata": {},
   "outputs": [],
   "source": [
    "# Se seleccionan solo las variables numéricas\n",
    "df_numerico = df.select_dtypes(include=['number'])"
   ]
  },
  {
   "cell_type": "code",
   "execution_count": 5,
   "id": "5e560dde-2254-4df9-b5d5-827ed482a4ab",
   "metadata": {},
   "outputs": [
    {
     "data": {
      "text/plain": [
       "Elevation                             int64\n",
       "Aspect                                int64\n",
       "Slope                                 int64\n",
       "Horizontal_Distance_To_Hydrology      int64\n",
       "Vertical_Distance_To_Hydrology        int64\n",
       "Horizontal_Distance_To_Roadways       int64\n",
       "Hillshade_9am                         int64\n",
       "Hillshade_Noon                        int64\n",
       "Hillshade_3pm                         int64\n",
       "Horizontal_Distance_To_Fire_Points    int64\n",
       "Cover_Type                            int64\n",
       "dtype: object"
      ]
     },
     "execution_count": 5,
     "metadata": {},
     "output_type": "execute_result"
    }
   ],
   "source": [
    "df_numerico.dtypes"
   ]
  },
  {
   "cell_type": "code",
   "execution_count": 6,
   "id": "c2f8de70-39da-4a1d-af3d-aa6ca1a22878",
   "metadata": {},
   "outputs": [],
   "source": [
    "X = df_numerico.drop(['Cover_Type'], axis=1)\n",
    "y = df_numerico['Cover_Type']"
   ]
  },
  {
   "cell_type": "code",
   "execution_count": 7,
   "id": "930946db-25d8-4b6d-a298-0d99d561a077",
   "metadata": {},
   "outputs": [],
   "source": [
    "# Aplicar SelectKBest\n",
    "selector = SelectKBest(f_classif, k=8)\n",
    "X_new = selector.fit_transform(X, y)\n",
    "\n",
    "# Obtener los nombres de las columnas seleccionadas\n",
    "columnas_seleccionadas = X.columns[selector.get_support()]\n",
    "\n",
    "# Convertir nuevamente en DataFrame\n",
    "X_new = pd.DataFrame(X_new, columns=columnas_seleccionadas, index=X.index)"
   ]
  },
  {
   "cell_type": "code",
   "execution_count": 8,
   "id": "c2730e29-f650-4a0f-b5c3-73e98ddf226c",
   "metadata": {},
   "outputs": [],
   "source": [
    "# Suponiendo que X_train es un DataFrame y y_train es una Serie o DataFrame\n",
    "df_new = pd.concat([X_new, y], axis=1)"
   ]
  },
  {
   "cell_type": "code",
   "execution_count": 9,
   "id": "e8b355f2-321d-4f0b-849e-0a34bf3aca82",
   "metadata": {},
   "outputs": [
    {
     "data": {
      "text/plain": [
       "1    0.488111\n",
       "0    0.364078\n",
       "2    0.062201\n",
       "6    0.034810\n",
       "5    0.029930\n",
       "4    0.016282\n",
       "3    0.004587\n",
       "Name: Cover_Type, dtype: float64"
      ]
     },
     "execution_count": 9,
     "metadata": {},
     "output_type": "execute_result"
    }
   ],
   "source": [
    "# Validate objective data distribution\n",
    "df_new['Cover_Type'].value_counts(normalize=True)"
   ]
  },
  {
   "cell_type": "code",
   "execution_count": 10,
   "id": "25a4323f-2104-405c-aaab-b6fe2db18fb0",
   "metadata": {},
   "outputs": [],
   "source": [
    "X_train, X_test, y_train, y_test, preprocessor = preparar_datos(df_new)"
   ]
  },
  {
   "cell_type": "code",
   "execution_count": 11,
   "id": "fee8713a-8b07-4225-82e5-653413e2ffb4",
   "metadata": {},
   "outputs": [],
   "source": [
    "# Load train frata from DataFrame\n",
    "train_stats = tfdv.generate_statistics_from_dataframe(X_train)"
   ]
  },
  {
   "cell_type": "code",
   "execution_count": 12,
   "id": "13a4dd05-4bf9-46ae-9105-9ea6ee692617",
   "metadata": {},
   "outputs": [
    {
     "data": {
      "text/html": [
       "<iframe id='facets-iframe' width=\"100%\" height=\"500px\"></iframe>\n",
       "        <script>\n",
       "        facets_iframe = document.getElementById('facets-iframe');\n",
       "        facets_html = '<script src=\"https://cdnjs.cloudflare.com/ajax/libs/webcomponentsjs/1.3.3/webcomponents-lite.js\"><\\/script><link rel=\"import\" href=\"https://raw.githubusercontent.com/PAIR-code/facets/master/facets-dist/facets-jupyter.html\"><facets-overview proto-input=\"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\"></facets-overview>';\n",
       "        facets_iframe.srcdoc = facets_html;\n",
       "         facets_iframe.id = \"\";\n",
       "         setTimeout(() => {\n",
       "           facets_iframe.setAttribute('height', facets_iframe.contentWindow.document.body.offsetHeight + 'px')\n",
       "         }, 1500)\n",
       "         </script>"
      ],
      "text/plain": [
       "<IPython.core.display.HTML object>"
      ]
     },
     "metadata": {},
     "output_type": "display_data"
    }
   ],
   "source": [
    "# Compute stats for training data\n",
    "# Analyze data distribution and check if transformation are required\n",
    "tfdv.visualize_statistics(train_stats)"
   ]
  },
  {
   "cell_type": "code",
   "execution_count": 13,
   "id": "de7e317e-51da-4342-bf9b-b569c3cac2f2",
   "metadata": {},
   "outputs": [
    {
     "data": {
      "text/html": [
       "<div>\n",
       "<style scoped>\n",
       "    .dataframe tbody tr th:only-of-type {\n",
       "        vertical-align: middle;\n",
       "    }\n",
       "\n",
       "    .dataframe tbody tr th {\n",
       "        vertical-align: top;\n",
       "    }\n",
       "\n",
       "    .dataframe thead th {\n",
       "        text-align: right;\n",
       "    }\n",
       "</style>\n",
       "<table border=\"1\" class=\"dataframe\">\n",
       "  <thead>\n",
       "    <tr style=\"text-align: right;\">\n",
       "      <th></th>\n",
       "      <th>Type</th>\n",
       "      <th>Presence</th>\n",
       "      <th>Valency</th>\n",
       "      <th>Domain</th>\n",
       "    </tr>\n",
       "    <tr>\n",
       "      <th>Feature name</th>\n",
       "      <th></th>\n",
       "      <th></th>\n",
       "      <th></th>\n",
       "      <th></th>\n",
       "    </tr>\n",
       "  </thead>\n",
       "  <tbody>\n",
       "    <tr>\n",
       "      <th>'Elevation'</th>\n",
       "      <td>INT</td>\n",
       "      <td>required</td>\n",
       "      <td></td>\n",
       "      <td>-</td>\n",
       "    </tr>\n",
       "    <tr>\n",
       "      <th>'Slope'</th>\n",
       "      <td>INT</td>\n",
       "      <td>required</td>\n",
       "      <td></td>\n",
       "      <td>-</td>\n",
       "    </tr>\n",
       "    <tr>\n",
       "      <th>'Horizontal_Distance_To_Hydrology'</th>\n",
       "      <td>INT</td>\n",
       "      <td>required</td>\n",
       "      <td></td>\n",
       "      <td>-</td>\n",
       "    </tr>\n",
       "    <tr>\n",
       "      <th>'Vertical_Distance_To_Hydrology'</th>\n",
       "      <td>INT</td>\n",
       "      <td>required</td>\n",
       "      <td></td>\n",
       "      <td>-</td>\n",
       "    </tr>\n",
       "    <tr>\n",
       "      <th>'Horizontal_Distance_To_Roadways'</th>\n",
       "      <td>INT</td>\n",
       "      <td>required</td>\n",
       "      <td></td>\n",
       "      <td>-</td>\n",
       "    </tr>\n",
       "    <tr>\n",
       "      <th>'Hillshade_9am'</th>\n",
       "      <td>INT</td>\n",
       "      <td>required</td>\n",
       "      <td></td>\n",
       "      <td>-</td>\n",
       "    </tr>\n",
       "    <tr>\n",
       "      <th>'Hillshade_Noon'</th>\n",
       "      <td>INT</td>\n",
       "      <td>required</td>\n",
       "      <td></td>\n",
       "      <td>-</td>\n",
       "    </tr>\n",
       "    <tr>\n",
       "      <th>'Horizontal_Distance_To_Fire_Points'</th>\n",
       "      <td>INT</td>\n",
       "      <td>required</td>\n",
       "      <td></td>\n",
       "      <td>-</td>\n",
       "    </tr>\n",
       "    <tr>\n",
       "      <th>'__index_level_0__'</th>\n",
       "      <td>INT</td>\n",
       "      <td>required</td>\n",
       "      <td></td>\n",
       "      <td>-</td>\n",
       "    </tr>\n",
       "  </tbody>\n",
       "</table>\n",
       "</div>"
      ],
      "text/plain": [
       "                                     Type  Presence Valency Domain\n",
       "Feature name                                                      \n",
       "'Elevation'                           INT  required              -\n",
       "'Slope'                               INT  required              -\n",
       "'Horizontal_Distance_To_Hydrology'    INT  required              -\n",
       "'Vertical_Distance_To_Hydrology'      INT  required              -\n",
       "'Horizontal_Distance_To_Roadways'     INT  required              -\n",
       "'Hillshade_9am'                       INT  required              -\n",
       "'Hillshade_Noon'                      INT  required              -\n",
       "'Horizontal_Distance_To_Fire_Points'  INT  required              -\n",
       "'__index_level_0__'                   INT  required              -"
      ]
     },
     "metadata": {},
     "output_type": "display_data"
    }
   ],
   "source": [
    "# Infer schema \n",
    "schema = tfdv.infer_schema(statistics=train_stats)\n",
    "tfdv.display_schema(schema=schema)"
   ]
  },
  {
   "cell_type": "code",
   "execution_count": 14,
   "id": "808b504d-8b5f-417f-946b-5610eab4f489",
   "metadata": {},
   "outputs": [],
   "source": [
    "# Compute stats for evaluation data\n",
    "eval_stats = tfdv.generate_statistics_from_dataframe(X_test)"
   ]
  }
 ],
 "metadata": {
  "kernelspec": {
   "display_name": "Python 3 (ipykernel)",
   "language": "python",
   "name": "python3"
  },
  "language_info": {
   "codemirror_mode": {
    "name": "ipython",
    "version": 3
   },
   "file_extension": ".py",
   "mimetype": "text/x-python",
   "name": "python",
   "nbconvert_exporter": "python",
   "pygments_lexer": "ipython3",
   "version": "3.11.11"
  }
 },
 "nbformat": 4,
 "nbformat_minor": 5
}
