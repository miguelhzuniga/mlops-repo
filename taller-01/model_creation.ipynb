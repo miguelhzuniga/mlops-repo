{
 "cells": [
  {
   "cell_type": "code",
   "execution_count": null,
   "metadata": {
    "vscode": {
     "languageId": "plaintext"
    }
   },
   "outputs": [],
   "source": [
    "import numpy as np\n",
    "import pandas as pd\n",
    "from sklearn.linear_model import LinearRegression\n",
    "from sklearn.metrics import mean_absolute_error, mean_squared_error\n",
    "\n",
    "def regresion(y_train: pd.Series, X_train: pd.DataFrame, y_test: pd.Series, X_test: pd.DataFrame):\n",
    "    \"\"\"\n",
    "    Construcción, entrenamiento y validación de un modelo de Regresión Lineal.\n",
    "    \"\"\"\n",
    "\n",
    "    # Construcción del modelo\n",
    "    lr_model = LinearRegression()\n",
    "    \n",
    "    # Entrenamiento del modelo\n",
    "    lr_model.fit(X_train, y_train)\n",
    "    \n",
    "    # Predicciones\n",
    "    lr_predictions = lr_model.predict(X_test)\n",
    "    \n",
    "    # Cálculo de métricas\n",
    "    lr_mse = mean_squared_error(y_test, lr_predictions)\n",
    "    lr_rmse = np.sqrt(lr_mse)\n",
    "    lr_mae = mean_absolute_error(y_test, lr_predictions)\n",
    "    \n",
    "    # Resultados\n",
    "    print(\"Resultados de Regresión Lineal:\")\n",
    "    print(f\"MAE: {lr_mae:.4f}\")\n",
    "    print(f\"RMSE: {lr_rmse:.4f}\")\n",
    "    print(f\"MSE: {lr_mse:.4f}\\n\")\n",
    "\n",
    "    return lr_model, lr_predictions"
   ]
  }
 ],
 "metadata": {
  "language_info": {
   "name": "python"
  }
 },
 "nbformat": 4,
 "nbformat_minor": 2
}
